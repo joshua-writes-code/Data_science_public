{
 "cells": [
  {
   "cell_type": "code",
   "execution_count": 7,
   "metadata": {},
   "outputs": [],
   "source": [
    "# the code that follows presents a python implementation that creates a recombining tree based\n",
    "# on some fixed numerical parameters for the model\n",
    "\n",
    "import math \n",
    "\n",
    "# initial value of the risky asset\n",
    "S0 = 36.\n",
    "# time horizon for the binomial tree simulation\n",
    "T = 1.0\n",
    "# constant short rate\n",
    "r = 0.06\n",
    "# constant volatilty factor\n",
    "sigma = 0.2\n",
    "\n",
    "\n",
    "def simulate_tree(M):\n",
    "    dt = T/M # lenght of the time intervals\n",
    "    u = math.exp(sigma * math.sqrt(dt))\n",
    "    d = 1 / u # factors for the upward and downward movements\n",
    "    S = np.zeros((M + 1, M + 1 ))\n",
    "    S[0,0 ] = S0\n",
    "    z = 1\n",
    "    for t in range (1, M + 1):\n",
    "        for i in range(z):\n",
    "            S[i,t] = S[i, t-1] * u\n",
    "            S[i+ 1, t] = S[i, t-1] * d\n",
    "        z +=1\n",
    "    return s\n",
    "\n"
   ]
  }
 ],
 "metadata": {
  "kernelspec": {
   "display_name": "Python 3",
   "language": "python",
   "name": "python3"
  },
  "language_info": {
   "codemirror_mode": {
    "name": "ipython",
    "version": 3
   },
   "file_extension": ".py",
   "mimetype": "text/x-python",
   "name": "python",
   "nbconvert_exporter": "python",
   "pygments_lexer": "ipython3",
   "version": "3.7.3"
  }
 },
 "nbformat": 4,
 "nbformat_minor": 2
}
